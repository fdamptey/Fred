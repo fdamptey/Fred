{
  "cells": [
    {
      "cell_type": "markdown",
      "metadata": {
        "id": "view-in-github",
        "colab_type": "text"
      },
      "source": [
        "<a href=\"https://colab.research.google.com/github/fdamptey/Fred/blob/main/Welcome_To_Colab.ipynb\" target=\"_parent\"><img src=\"https://colab.research.google.com/assets/colab-badge.svg\" alt=\"Open In Colab\"/></a>"
      ]
    },
    {
      "cell_type": "code",
      "source": [
        "!pip install glob\n",
        "!pip install matplotlib as plot\n",
        "!pip install numpy as np\n",
        "!pip install pandas as pd\n",
        "!pip install graphviz\n",
        "!pip install mglearn!pip install IPython"
      ],
      "metadata": {
        "id": "8v3xeb_yW5UH",
        "outputId": "9f810162-b646-4f77-927f-1a2eb8e4492f",
        "colab": {
          "base_uri": "https://localhost:8080/"
        }
      },
      "execution_count": 3,
      "outputs": [
        {
          "output_type": "stream",
          "name": "stdout",
          "text": [
            "\u001b[31mERROR: Could not find a version that satisfies the requirement glob (from versions: none)\u001b[0m\u001b[31m\n",
            "\u001b[0m\u001b[31mERROR: No matching distribution found for glob\u001b[0m\u001b[31m\n",
            "\u001b[0mRequirement already satisfied: matplotlib in /usr/local/lib/python3.10/dist-packages (3.8.0)\n",
            "\u001b[31mERROR: Could not find a version that satisfies the requirement as (from versions: none)\u001b[0m\u001b[31m\n",
            "\u001b[0m\u001b[31mERROR: No matching distribution found for as\u001b[0m\u001b[31m\n",
            "\u001b[0mRequirement already satisfied: numpy in /usr/local/lib/python3.10/dist-packages (1.26.4)\n",
            "\u001b[31mERROR: Could not find a version that satisfies the requirement as (from versions: none)\u001b[0m\u001b[31m\n",
            "\u001b[0m\u001b[31mERROR: No matching distribution found for as\u001b[0m\u001b[31m\n",
            "\u001b[0mRequirement already satisfied: pandas in /usr/local/lib/python3.10/dist-packages (2.2.2)\n",
            "\u001b[31mERROR: Could not find a version that satisfies the requirement as (from versions: none)\u001b[0m\u001b[31m\n",
            "\u001b[0m\u001b[31mERROR: No matching distribution found for as\u001b[0m\u001b[31m\n",
            "\u001b[0mRequirement already satisfied: graphviz in /usr/local/lib/python3.10/dist-packages (0.20.3)\n",
            "\u001b[31mERROR: Invalid requirement: 'mglearn!pip': Expected end or semicolon (after name and no valid version specifier)\n",
            "    mglearn!pip\n",
            "           ^\u001b[0m\u001b[31m\n",
            "\u001b[0m"
          ]
        }
      ]
    },
    {
      "cell_type": "code",
      "source": [
        "import pandas as pd\n",
        "from sklearn.model_selection import train_test_split\n",
        "from sklearn.ensemble import RandomForestClassifier\n",
        "from sklearn.metrics import accuracy_score, classification_report\n",
        "import matplotlib.pyplot as plt\n",
        "from sklearn.preprocessing import OrdinalEncoder # Importing OrdinalEncoder\n",
        "\n",
        "# ... (rest of the imports)\n",
        "\n",
        "# Specify the filepath\n",
        "StudentGradePredictor = r\"quiz2-grade-toy-classification.csv\"\n",
        "\n",
        "# Load the CSV file into a DataFrame\n",
        "data = pd.read_csv(StudentGradePredictor)\n",
        "print(data.head())\n",
        "\n",
        "# Display the shape of the DataFrame\n",
        "shape = data.shape\n",
        "print(\"Shape of the DataFrame:\", shape)\n",
        "\n",
        "# Clean CSV table\n",
        "data.rename(columns={\"quiz2\": \"Predicted_Grade\"}, inplace=True)\n",
        "data['ml_experience'] = data['ml_experience'].replace({0: 'None', 1: 'Have_experience'})\n",
        "data['class_attendance'] = data['class_attendance'].replace({1: 'Punctual', 0: 'Not_punctual'})\n",
        "print(data.head())\n",
        "\n",
        "# ----> Create and fit OrdinalEncoder:\n",
        "enc = OrdinalEncoder()\n",
        "# For handling unknown categories during prediction, add handle_unknown='use_encoded_value', unknown_value=-1\n",
        "categorical_features = ['ml_experience', 'class_attendance']\n",
        "data[categorical_features] = enc.fit_transform(data[categorical_features])\n",
        "\n",
        "# Select test set and train model\n",
        "train_df, test_df = train_test_split(data, test_size=4, random_state=3)\n",
        "X_train, y_train = train_df.drop(columns=[\"Predicted_Grade\"]), train_df[\"Predicted_Grade\"]\n",
        "X_test, y_test = test_df.drop(columns=[\"Predicted_Grade\"]), test_df[\"Predicted_Grade\"]\n",
        "\n",
        "# Train a RandomForestClassifier\n",
        "model = RandomForestClassifier(n_estimators=100, random_state=42)\n",
        "model.fit(X_train, y_train)\n",
        "\n",
        "# Make predictions\n",
        "y_pred = model.predict(X_test)\n",
        "\n",
        "# Evaluate the model\n",
        "accuracy = accuracy_score(y_test, y_pred)\n",
        "print(f\"Accuracy: {accuracy:.2f}\")\n",
        "print(\"Classification Report:\")\n",
        "print(classification_report(y_test, y_pred))"
      ],
      "metadata": {
        "id": "xHtaD3aJ3qv2",
        "outputId": "8c28933b-0ad2-42a0-cab1-e2e5834ad409",
        "colab": {
          "base_uri": "https://localhost:8080/"
        }
      },
      "execution_count": 45,
      "outputs": [
        {
          "output_type": "stream",
          "name": "stdout",
          "text": [
            "   ml_experience  class_attendance  lab1  lab2  lab3  lab4  quiz1   quiz2\n",
            "0              1                 1    92    93    84    91     92      A+\n",
            "1              1                 0    94    90    80    83     91  not A+\n",
            "2              0                 0    78    85    83    80     80  not A+\n",
            "3              0                 1    91    94    92    91     89      A+\n",
            "4              0                 1    77    83    90    92     85      A+\n",
            "Shape of the DataFrame: (21, 8)\n",
            "     ml_experience class_attendance  lab1  lab2  lab3  lab4  quiz1  \\\n",
            "0  Have_experience         Punctual    92    93    84    91     92   \n",
            "1  Have_experience     Not_punctual    94    90    80    83     91   \n",
            "2             None     Not_punctual    78    85    83    80     80   \n",
            "3             None         Punctual    91    94    92    91     89   \n",
            "4             None         Punctual    77    83    90    92     85   \n",
            "\n",
            "  Predicted_Grade  \n",
            "0              A+  \n",
            "1          not A+  \n",
            "2          not A+  \n",
            "3              A+  \n",
            "4              A+  \n",
            "Accuracy: 0.50\n",
            "Classification Report:\n",
            "              precision    recall  f1-score   support\n",
            "\n",
            "          A+       0.33      1.00      0.50         1\n",
            "      not A+       1.00      0.33      0.50         3\n",
            "\n",
            "    accuracy                           0.50         4\n",
            "   macro avg       0.67      0.67      0.50         4\n",
            "weighted avg       0.83      0.50      0.50         4\n",
            "\n"
          ]
        }
      ]
    }
  ],
  "metadata": {
    "colab": {
      "name": "Welcome To Colab",
      "provenance": [],
      "include_colab_link": true
    },
    "kernelspec": {
      "display_name": "Python 3",
      "name": "python3"
    }
  },
  "nbformat": 4,
  "nbformat_minor": 0
}